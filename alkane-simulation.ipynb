{
 "cells": [
  {
   "cell_type": "code",
   "execution_count": 1,
   "metadata": {},
   "outputs": [],
   "source": [
    "from simtk.openmm import app\n",
    "import simtk.openmm as mm\n",
    "from simtk import unit"
   ]
  },
  {
   "cell_type": "code",
   "execution_count": 2,
   "metadata": {},
   "outputs": [],
   "source": [
    "pdb = app.PDBFile('data/ethane.pdb')\n",
    "forcefield = app.ForceField('data/ethane.gaff2.xml')"
   ]
  },
  {
   "cell_type": "code",
   "execution_count": 3,
   "metadata": {},
   "outputs": [],
   "source": [
    "system = forcefield.createSystem(pdb.topology, nonbondedMethod=app.NoCutoff, constraints=app.HBonds)"
   ]
  },
  {
   "cell_type": "code",
   "execution_count": 4,
   "metadata": {},
   "outputs": [],
   "source": [
    "integrator = mm.LangevinIntegrator(298.15*unit.kelvin, 5.0/unit.picoseconds, 2.0*unit.femtoseconds)\n",
    "integrator.setConstraintTolerance(1e-5)"
   ]
  },
  {
   "cell_type": "code",
   "execution_count": 5,
   "metadata": {},
   "outputs": [],
   "source": [
    "platform = mm.Platform.getPlatformByName('Reference')\n",
    "simulation = app.Simulation(pdb.topology, system, integrator, platform)\n",
    "simulation.context.setPositions(pdb.positions)"
   ]
  },
  {
   "cell_type": "code",
   "execution_count": 6,
   "metadata": {},
   "outputs": [
    {
     "name": "stdout",
     "output_type": "stream",
     "text": [
      "Minimizing...\n",
      "Potential energy before minimization is 4.467818224810632 kJ/mol\n",
      "Potential energy after minimization is 4.389967678922688 kJ/mol\n"
     ]
    }
   ],
   "source": [
    "print('Minimizing...')\n",
    "\n",
    "st = simulation.context.getState(getPositions=True,getEnergy=True)\n",
    "print(F\"Potential energy before minimization is {st.getPotentialEnergy()}\")\n",
    "\n",
    "simulation.minimizeEnergy(maxIterations=100)\n",
    "\n",
    "st = simulation.context.getState(getPositions=True,getEnergy=True)\n",
    "print(F\"Potential energy after minimization is {st.getPotentialEnergy()}\")"
   ]
  },
  {
   "cell_type": "code",
   "execution_count": 7,
   "metadata": {},
   "outputs": [
    {
     "name": "stdout",
     "output_type": "stream",
     "text": [
      "Equilibrating...\n",
      "#\"Step\",\"Potential Energy (kJ/mole)\",\"Temperature (K)\"\n",
      "100,17.467083564535933,312.00174943104463\n",
      "200,13.424112014181595,183.17643718055925\n",
      "300,18.236033759740543,293.0589592182455\n",
      "400,15.195366748750512,293.61503988319663\n",
      "500,16.84407004879646,231.57092263812788\n",
      "600,32.944864512186,295.9339867619131\n",
      "700,34.129648269213895,447.083117538121\n",
      "800,19.572302283649996,413.6581285594615\n",
      "900,20.60133124617421,340.1743284472552\n",
      "1000,17.364480983713786,361.38564446837677\n",
      "1100,17.508714679030135,283.8591417481635\n",
      "1200,10.507150978716005,250.11108411782828\n",
      "1300,28.0154138046385,326.9028813708034\n",
      "1400,21.277989139320955,202.03889599048367\n",
      "1500,25.568117316473348,226.35599045797716\n",
      "1600,28.282438918366413,150.2286136474186\n",
      "1700,14.947898349715802,268.6343678221977\n",
      "1800,17.827337438698386,227.18210824899003\n",
      "1900,10.796233855577377,209.44225208626148\n",
      "2000,22.29338512573151,225.85600837893153\n",
      "2100,23.407368674454332,182.20058921715616\n",
      "2200,27.721936733306574,228.05553198606378\n",
      "2300,23.733090896253383,410.8194160461289\n",
      "2400,17.967831001050456,394.6519218533527\n",
      "2500,28.902652256481012,265.09999174350145\n"
     ]
    }
   ],
   "source": [
    "from sys import stdout\n",
    "\n",
    "print('Equilibrating...')\n",
    "\n",
    "simulation.reporters.append(app.StateDataReporter(stdout, 100, step=True, \n",
    "    potentialEnergy=True, temperature=True, separator=','))\n",
    "simulation.context.setVelocitiesToTemperature(150.0*unit.kelvin)\n",
    "simulation.step(2500)"
   ]
  },
  {
   "cell_type": "code",
   "execution_count": 8,
   "metadata": {},
   "outputs": [
    {
     "name": "stdout",
     "output_type": "stream",
     "text": [
      "Running Production...\n",
      "#\"Step\",\"Time (ps)\",\"Potential Energy (kJ/mole)\",\"Temperature (K)\",\"Speed (ns/day)\"\n",
      "250000,500.0000000016593,21.121519160194445,576.983271586312,0\n",
      "500000,999.9999999901769,31.816912631010005,636.9383284391093,2.51e+04\n",
      "750000,1499.9999999783536,21.355562914396536,527.4501791727316,2.52e+04\n",
      "1000000,1999.9999999665301,24.127645706202777,153.43402010333287,2.52e+04\n",
      "1250000,2499.9999999547067,28.15865429333668,307.5805675986104,2.52e+04\n",
      "1500000,2999.9999999428833,18.662677527706325,239.12679279133303,2.52e+04\n",
      "1750000,3499.99999993106,13.966811421504847,199.54801595317795,2.52e+04\n",
      "2000000,3999.9999999192364,21.35260217054877,179.41548057328072,2.52e+04\n",
      "2250000,4499.9999999992715,13.216315675568104,548.1976259772604,2.52e+04\n",
      "2500000,5000.000000101135,23.860156111361228,285.26476882779565,2.52e+04\n",
      "2750000,5500.000000202998,14.577097397731814,298.03697962582066,2.52e+04\n",
      "3000000,6000.000000304862,19.35568711748448,222.47642264899213,2.52e+04\n",
      "3250000,6500.000000406725,19.668224012002018,301.0267041071568,2.52e+04\n",
      "3500000,7000.0000005085885,16.745335629757676,169.0379524489561,2.52e+04\n",
      "3750000,7500.000000610452,23.79562081402103,128.00225489437932,2.53e+04\n",
      "4000000,8000.000000712315,22.82356682135089,297.15135227713637,2.53e+04\n",
      "4250000,8500.000000814178,13.73207367832368,185.6400246776124,2.54e+04\n",
      "4500000,9000.000000916041,25.506055353805067,376.49968097739526,2.54e+04\n",
      "4750000,9500.000001017905,25.02527965376305,343.13165280270897,2.54e+04\n",
      "5000000,10000.000001119768,10.20293896054769,279.9310570470881,2.54e+04\n",
      "5250000,10500.000001221631,42.39898719483595,287.3570166717352,2.51e+04\n",
      "5500000,11000.000001323495,20.350969905497884,233.0543969455273,2.5e+04\n",
      "5750000,11500.000001425358,11.935497908136496,156.23974452761968,2.49e+04\n",
      "6000000,12000.000001527222,19.917089255049422,331.68407730959376,2.49e+04\n",
      "6250000,12500.000001629085,35.34687819590093,273.41460106364224,2.48e+04\n",
      "6500000,13000.000001730948,14.358876460461726,267.75059683592997,2.49e+04\n",
      "6750000,13500.000001832812,14.218321688370722,440.5581543958991,2.49e+04\n",
      "7000000,14000.000001934675,16.911430825468415,131.22324190421722,2.48e+04\n",
      "7250000,14500.000002036539,26.961691016143824,287.7457209146697,2.49e+04\n",
      "7500000,15000.000002138402,33.92429746634148,361.24967903783073,2.48e+04\n",
      "7750000,15500.000002240266,24.36443219024391,415.89902498694573,2.46e+04\n",
      "8000000,16000.000002342129,18.567184142340572,227.9495463358427,2.46e+04\n",
      "8250000,16500.00000244399,17.02183624241465,459.3828443116956,2.45e+04\n",
      "8500000,17000.000002545854,18.172089742483713,449.8836420673042,2.44e+04\n",
      "8750000,17500.000002647717,12.22428067764477,300.50944986431995,2.43e+04\n",
      "9000000,18000.00000274958,18.461611877012672,494.86539677324924,2.43e+04\n",
      "9250000,18500.000002851444,27.195926396269133,291.5015201950165,2.43e+04\n",
      "9500000,19000.000002953308,16.654403901531957,315.0160535650128,2.43e+04\n",
      "9750000,19500.00000305517,16.169381673047152,213.79623742486442,2.43e+04\n",
      "10000000,20000.000003157034,16.703428323575526,337.421985719128,2.43e+04\n",
      "Done!\n",
      "Time required for simulation: 71.05859303474426 seconds\n"
     ]
    }
   ],
   "source": [
    "import time as time\n",
    "\n",
    "print('Running Production...')\n",
    "\n",
    "# Begin timer\n",
    "tinit=time.time()\n",
    "\n",
    "# Clear simulation reporters\n",
    "simulation.reporters.clear()\n",
    "\n",
    "# Reinitialize simulation reporters. We do this because we want different information printed from the production run than the equilibration run.\n",
    "# output basic simulation information below every 250000 steps - (which is equal to 2 fs(250,000) = 500,000 fs = 500 ps)\n",
    "simulation.reporters.append(app.StateDataReporter(stdout, 250000, \n",
    "    step=True, time=True, potentialEnergy=True, temperature=True, \n",
    "    speed=True, separator=','))\n",
    "\n",
    "# write out a trajectory (i.e., coordinates vs. time) to a DCD\n",
    "# file every 100 steps - 0.2 ps\n",
    "simulation.reporters.append(app.DCDReporter('ethane_sim.dcd', 100))\n",
    "\n",
    "# run the simulation for 1.0x10^7 steps - 20 ns\n",
    "simulation.step(10000000)\n",
    "\n",
    "# End timer\n",
    "tfinal=time.time()\n",
    "print('Done!')\n",
    "print('Time required for simulation:', tfinal-tinit, 'seconds')"
   ]
  },
  {
   "cell_type": "code",
   "execution_count": 10,
   "metadata": {},
   "outputs": [
    {
     "data": {
      "application/vnd.jupyter.widget-view+json": {
       "model_id": "da543506049743e490be367c9c33cc57",
       "version_major": 2,
       "version_minor": 0
      },
      "text/plain": []
     },
     "metadata": {},
     "output_type": "display_data"
    },
    {
     "data": {
      "application/vnd.jupyter.widget-view+json": {
       "model_id": "fca71862ce814ef1a691db4fee268e8b",
       "version_major": 2,
       "version_minor": 0
      },
      "text/plain": [
       "NGLWidget(max_frame=99999)"
      ]
     },
     "metadata": {},
     "output_type": "display_data"
    }
   ],
   "source": [
    "import mdtraj as md\n",
    "\n",
    "traj = md.load('ethane_sim.dcd', top='data/ethane.pdb')\n",
    "\n",
    "import nglview as ngl\n",
    "\n",
    "visualize = ngl.show_mdtraj(traj)\n",
    "visualize"
   ]
  },
  {
   "cell_type": "code",
   "execution_count": 11,
   "metadata": {},
   "outputs": [
    {
     "name": "stdout",
     "output_type": "stream",
     "text": [
      "alkane-simulation.ipynb   \u001b[1m\u001b[36mdata\u001b[m\u001b[m/                     ethane_sim.dcd\r\n",
      "buckminsterfullerene.xyz  environment.yml\r\n"
     ]
    }
   ],
   "source": [
    "ls"
   ]
  },
  {
   "cell_type": "code",
   "execution_count": 12,
   "metadata": {},
   "outputs": [
    {
     "ename": "ModuleNotFoundError",
     "evalue": "No module named 'openbabel'",
     "output_type": "error",
     "traceback": [
      "\u001b[0;31m---------------------------------------------------------------------------\u001b[0m",
      "\u001b[0;31mModuleNotFoundError\u001b[0m                       Traceback (most recent call last)",
      "\u001b[0;32m~/miniconda3/envs/tapia_2020/lib/python3.7/site-packages/nglview/adaptor.py\u001b[0m in \u001b[0;36mget_structure_string\u001b[0;34m(self)\u001b[0m\n\u001b[1;32m    175\u001b[0m             \u001b[0;31m# Open Babel >= 3.0.0\u001b[0m\u001b[0;34m\u001b[0m\u001b[0;34m\u001b[0m\u001b[0;34m\u001b[0m\u001b[0m\n\u001b[0;32m--> 176\u001b[0;31m             \u001b[0;32mfrom\u001b[0m \u001b[0mopenbabel\u001b[0m \u001b[0;32mimport\u001b[0m \u001b[0mopenbabel\u001b[0m\u001b[0;34m\u001b[0m\u001b[0;34m\u001b[0m\u001b[0m\n\u001b[0m\u001b[1;32m    177\u001b[0m         \u001b[0;32mexcept\u001b[0m \u001b[0mImportError\u001b[0m\u001b[0;34m:\u001b[0m\u001b[0;34m\u001b[0m\u001b[0;34m\u001b[0m\u001b[0m\n",
      "\u001b[0;31mModuleNotFoundError\u001b[0m: No module named 'openbabel'",
      "\nDuring handling of the above exception, another exception occurred:\n",
      "\u001b[0;31mModuleNotFoundError\u001b[0m                       Traceback (most recent call last)",
      "\u001b[0;32m<ipython-input-12-ca9f93b30fea>\u001b[0m in \u001b[0;36m<module>\u001b[0;34m\u001b[0m\n\u001b[0;32m----> 1\u001b[0;31m \u001b[0mvis\u001b[0m \u001b[0;34m=\u001b[0m \u001b[0mngl\u001b[0m\u001b[0;34m.\u001b[0m\u001b[0mshow_openbabel\u001b[0m\u001b[0;34m(\u001b[0m\u001b[0;34m'buckminsterfullerene.xyz'\u001b[0m\u001b[0;34m)\u001b[0m\u001b[0;34m\u001b[0m\u001b[0;34m\u001b[0m\u001b[0m\n\u001b[0m",
      "\u001b[0;32m~/miniconda3/envs/tapia_2020/lib/python3.7/site-packages/nglview/show.py\u001b[0m in \u001b[0;36mshow_openbabel\u001b[0;34m(obj, **kwargs)\u001b[0m\n\u001b[1;32m    138\u001b[0m     \u001b[0;34m...\u001b[0m \u001b[0mnglview\u001b[0m\u001b[0;34m.\u001b[0m\u001b[0mshow_openbabel\u001b[0m\u001b[0;34m(\u001b[0m\u001b[0mmol\u001b[0m\u001b[0;34m)\u001b[0m\u001b[0;34m\u001b[0m\u001b[0;34m\u001b[0m\u001b[0m\n\u001b[1;32m    139\u001b[0m     \"\"\"\n\u001b[0;32m--> 140\u001b[0;31m     \u001b[0;32mreturn\u001b[0m \u001b[0mNGLWidget\u001b[0m\u001b[0;34m(\u001b[0m\u001b[0mOpenbabelStructure\u001b[0m\u001b[0;34m(\u001b[0m\u001b[0mobj\u001b[0m\u001b[0;34m)\u001b[0m\u001b[0;34m,\u001b[0m \u001b[0;34m**\u001b[0m\u001b[0mkwargs\u001b[0m\u001b[0;34m)\u001b[0m\u001b[0;34m\u001b[0m\u001b[0;34m\u001b[0m\u001b[0m\n\u001b[0m\u001b[1;32m    141\u001b[0m \u001b[0;34m\u001b[0m\u001b[0m\n\u001b[1;32m    142\u001b[0m \u001b[0;34m\u001b[0m\u001b[0m\n",
      "\u001b[0;32m~/miniconda3/envs/tapia_2020/lib/python3.7/site-packages/nglview/widget.py\u001b[0m in \u001b[0;36m__init__\u001b[0;34m(self, structure, representations, parameters, **kwargs)\u001b[0m\n\u001b[1;32m    243\u001b[0m         \u001b[0;32melse\u001b[0m\u001b[0;34m:\u001b[0m\u001b[0;34m\u001b[0m\u001b[0;34m\u001b[0m\u001b[0m\n\u001b[1;32m    244\u001b[0m             \u001b[0;32mif\u001b[0m \u001b[0mstructure\u001b[0m \u001b[0;32mis\u001b[0m \u001b[0;32mnot\u001b[0m \u001b[0;32mNone\u001b[0m\u001b[0;34m:\u001b[0m\u001b[0;34m\u001b[0m\u001b[0;34m\u001b[0m\u001b[0m\n\u001b[0;32m--> 245\u001b[0;31m                 \u001b[0mself\u001b[0m\u001b[0;34m.\u001b[0m\u001b[0madd_structure\u001b[0m\u001b[0;34m(\u001b[0m\u001b[0mstructure\u001b[0m\u001b[0;34m,\u001b[0m \u001b[0;34m**\u001b[0m\u001b[0mkwargs\u001b[0m\u001b[0;34m)\u001b[0m\u001b[0;34m\u001b[0m\u001b[0;34m\u001b[0m\u001b[0m\n\u001b[0m\u001b[1;32m    246\u001b[0m \u001b[0;34m\u001b[0m\u001b[0m\n\u001b[1;32m    247\u001b[0m         \u001b[0;32mif\u001b[0m \u001b[0mrepresentations\u001b[0m\u001b[0;34m:\u001b[0m\u001b[0;34m\u001b[0m\u001b[0;34m\u001b[0m\u001b[0m\n",
      "\u001b[0;32m~/miniconda3/envs/tapia_2020/lib/python3.7/site-packages/nglview/widget.py\u001b[0m in \u001b[0;36madd_structure\u001b[0;34m(self, structure, **kwargs)\u001b[0m\n\u001b[1;32m   1111\u001b[0m         \u001b[0;32mif\u001b[0m \u001b[0;32mnot\u001b[0m \u001b[0misinstance\u001b[0m\u001b[0;34m(\u001b[0m\u001b[0mstructure\u001b[0m\u001b[0;34m,\u001b[0m \u001b[0mStructure\u001b[0m\u001b[0;34m)\u001b[0m\u001b[0;34m:\u001b[0m\u001b[0;34m\u001b[0m\u001b[0;34m\u001b[0m\u001b[0m\n\u001b[1;32m   1112\u001b[0m             \u001b[0;32mraise\u001b[0m \u001b[0mValueError\u001b[0m\u001b[0;34m(\u001b[0m\u001b[0;34mf'{structure} is not an instance of Structure'\u001b[0m\u001b[0;34m)\u001b[0m\u001b[0;34m\u001b[0m\u001b[0;34m\u001b[0m\u001b[0m\n\u001b[0;32m-> 1113\u001b[0;31m         \u001b[0mself\u001b[0m\u001b[0;34m.\u001b[0m\u001b[0m_load_data\u001b[0m\u001b[0;34m(\u001b[0m\u001b[0mstructure\u001b[0m\u001b[0;34m,\u001b[0m \u001b[0;34m**\u001b[0m\u001b[0mkwargs\u001b[0m\u001b[0;34m)\u001b[0m\u001b[0;34m\u001b[0m\u001b[0;34m\u001b[0m\u001b[0m\n\u001b[0m\u001b[1;32m   1114\u001b[0m         \u001b[0mself\u001b[0m\u001b[0;34m.\u001b[0m\u001b[0m_ngl_component_ids\u001b[0m\u001b[0;34m.\u001b[0m\u001b[0mappend\u001b[0m\u001b[0;34m(\u001b[0m\u001b[0mstructure\u001b[0m\u001b[0;34m.\u001b[0m\u001b[0mid\u001b[0m\u001b[0;34m)\u001b[0m\u001b[0;34m\u001b[0m\u001b[0;34m\u001b[0m\u001b[0m\n\u001b[1;32m   1115\u001b[0m         \u001b[0;32mif\u001b[0m \u001b[0mself\u001b[0m\u001b[0;34m.\u001b[0m\u001b[0mn_components\u001b[0m \u001b[0;34m>\u001b[0m \u001b[0;36m1\u001b[0m\u001b[0;34m:\u001b[0m\u001b[0;34m\u001b[0m\u001b[0;34m\u001b[0m\u001b[0m\n",
      "\u001b[0;32m~/miniconda3/envs/tapia_2020/lib/python3.7/site-packages/nglview/widget.py\u001b[0m in \u001b[0;36m_load_data\u001b[0;34m(self, obj, **kwargs)\u001b[0m\n\u001b[1;32m   1229\u001b[0m         \u001b[0;32mif\u001b[0m \u001b[0;32mnot\u001b[0m \u001b[0mis_url\u001b[0m\u001b[0;34m:\u001b[0m\u001b[0;34m\u001b[0m\u001b[0;34m\u001b[0m\u001b[0m\n\u001b[1;32m   1230\u001b[0m             \u001b[0;32mif\u001b[0m \u001b[0mhasattr\u001b[0m\u001b[0;34m(\u001b[0m\u001b[0mobj\u001b[0m\u001b[0;34m,\u001b[0m \u001b[0;34m'get_structure_string'\u001b[0m\u001b[0;34m)\u001b[0m\u001b[0;34m:\u001b[0m\u001b[0;34m\u001b[0m\u001b[0;34m\u001b[0m\u001b[0m\n\u001b[0;32m-> 1231\u001b[0;31m                 \u001b[0mblob\u001b[0m \u001b[0;34m=\u001b[0m \u001b[0mobj\u001b[0m\u001b[0;34m.\u001b[0m\u001b[0mget_structure_string\u001b[0m\u001b[0;34m(\u001b[0m\u001b[0;34m)\u001b[0m\u001b[0;34m\u001b[0m\u001b[0;34m\u001b[0m\u001b[0m\n\u001b[0m\u001b[1;32m   1232\u001b[0m                 \u001b[0mkwargs2\u001b[0m\u001b[0;34m[\u001b[0m\u001b[0;34m'ext'\u001b[0m\u001b[0;34m]\u001b[0m \u001b[0;34m=\u001b[0m \u001b[0mobj\u001b[0m\u001b[0;34m.\u001b[0m\u001b[0mext\u001b[0m\u001b[0;34m\u001b[0m\u001b[0;34m\u001b[0m\u001b[0m\n\u001b[1;32m   1233\u001b[0m                 \u001b[0mpassing_buffer\u001b[0m \u001b[0;34m=\u001b[0m \u001b[0;32mTrue\u001b[0m\u001b[0;34m\u001b[0m\u001b[0;34m\u001b[0m\u001b[0m\n",
      "\u001b[0;32m~/miniconda3/envs/tapia_2020/lib/python3.7/site-packages/nglview/adaptor.py\u001b[0m in \u001b[0;36mget_structure_string\u001b[0;34m(self)\u001b[0m\n\u001b[1;32m    176\u001b[0m             \u001b[0;32mfrom\u001b[0m \u001b[0mopenbabel\u001b[0m \u001b[0;32mimport\u001b[0m \u001b[0mopenbabel\u001b[0m\u001b[0;34m\u001b[0m\u001b[0;34m\u001b[0m\u001b[0m\n\u001b[1;32m    177\u001b[0m         \u001b[0;32mexcept\u001b[0m \u001b[0mImportError\u001b[0m\u001b[0;34m:\u001b[0m\u001b[0;34m\u001b[0m\u001b[0;34m\u001b[0m\u001b[0m\n\u001b[0;32m--> 178\u001b[0;31m             \u001b[0;32mimport\u001b[0m \u001b[0mopenbabel\u001b[0m\u001b[0;34m\u001b[0m\u001b[0;34m\u001b[0m\u001b[0m\n\u001b[0m\u001b[1;32m    179\u001b[0m         \u001b[0moc\u001b[0m \u001b[0;34m=\u001b[0m \u001b[0mopenbabel\u001b[0m\u001b[0;34m.\u001b[0m\u001b[0mOBConversion\u001b[0m\u001b[0;34m(\u001b[0m\u001b[0;34m)\u001b[0m\u001b[0;34m\u001b[0m\u001b[0;34m\u001b[0m\u001b[0m\n\u001b[1;32m    180\u001b[0m         \u001b[0moc\u001b[0m\u001b[0;34m.\u001b[0m\u001b[0mSetOutFormat\u001b[0m\u001b[0;34m(\u001b[0m\u001b[0;34m'pdb'\u001b[0m\u001b[0;34m)\u001b[0m\u001b[0;34m\u001b[0m\u001b[0;34m\u001b[0m\u001b[0m\n",
      "\u001b[0;31mModuleNotFoundError\u001b[0m: No module named 'openbabel'"
     ]
    }
   ],
   "source": [
    "vis = ngl.show_openbabel('buckminsterfullerene.xyz')"
   ]
  }
 ],
 "metadata": {
  "kernelspec": {
   "display_name": "Python 3",
   "language": "python",
   "name": "python3"
  },
  "language_info": {
   "codemirror_mode": {
    "name": "ipython",
    "version": 3
   },
   "file_extension": ".py",
   "mimetype": "text/x-python",
   "name": "python",
   "nbconvert_exporter": "python",
   "pygments_lexer": "ipython3",
   "version": "3.7.6"
  }
 },
 "nbformat": 4,
 "nbformat_minor": 4
}
